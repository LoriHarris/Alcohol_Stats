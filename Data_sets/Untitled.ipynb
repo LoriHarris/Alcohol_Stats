{
 "cells": [
  {
   "cell_type": "code",
   "execution_count": 3,
   "metadata": {},
   "outputs": [],
   "source": [
    "# Dependencies\n",
    "import json\n",
    "import os\n",
    "\n",
    "# Load JSON\n",
    "filepath_1979 = os.path.join(\"Recorded alcohol per capita consumption_1960-1979.json\")\n",
    "with open(filepath_1979) as jsonfile1979:\n",
    "    json_1979_data = json.load(jsonfile1979)"
   ]
  },
  {
   "cell_type": "code",
   "execution_count": 5,
   "metadata": {},
   "outputs": [],
   "source": [
    "filepath_1999 = os.path.join(\"Recorded alcohol per capita consumption_1980-1999.json\")\n",
    "with open(filepath_1999) as jsonfile1999:\n",
    "    json_1999_data = json.load(jsonfile1999)"
   ]
  },
  {
   "cell_type": "code",
   "execution_count": 6,
   "metadata": {},
   "outputs": [],
   "source": [
    "filepath_2009 = os.path.join(\"Recorded alcohol per capita consumption_2000-2009.json\")\n",
    "with open(filepath_2009) as jsonfile2009:\n",
    "    json_2009_data = json.load(jsonfile2009)\n",
    "    "
   ]
  },
  {
   "cell_type": "code",
   "execution_count": 8,
   "metadata": {},
   "outputs": [],
   "source": [
    "filepath_2018 = os.path.join(\"Recorded alcohol per capita consumption_from 2010-2018.json\")\n",
    "with open(filepath_2018) as jsonfile2018:\n",
    "    json_2018_data = json.load(jsonfile2018)"
   ]
  },
  {
   "cell_type": "code",
   "execution_count": 10,
   "metadata": {},
   "outputs": [
    {
     "name": "stderr",
     "output_type": "stream",
     "text": [
      "IOPub data rate exceeded.\n",
      "The notebook server will temporarily stop sending output\n",
      "to the client in order to avoid crashing it.\n",
      "To change this limit, set the config variable\n",
      "`--NotebookApp.iopub_data_rate_limit`.\n",
      "\n",
      "Current values:\n",
      "NotebookApp.iopub_data_rate_limit=1000000.0 (bytes/sec)\n",
      "NotebookApp.rate_limit_window=3.0 (secs)\n",
      "\n"
     ]
    }
   ],
   "source": [
    "print(json.dumps(json_1999_data, indent=4))"
   ]
  }
 ],
 "metadata": {
  "kernelspec": {
   "display_name": "Python 3",
   "language": "python",
   "name": "python3"
  },
  "language_info": {
   "codemirror_mode": {
    "name": "ipython",
    "version": 3
   },
   "file_extension": ".py",
   "mimetype": "text/x-python",
   "name": "python",
   "nbconvert_exporter": "python",
   "pygments_lexer": "ipython3",
   "version": "3.7.0"
  }
 },
 "nbformat": 4,
 "nbformat_minor": 2
}
