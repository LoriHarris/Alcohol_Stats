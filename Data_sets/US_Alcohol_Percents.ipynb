{
 "cells": [
  {
   "cell_type": "code",
   "execution_count": 10,
   "metadata": {},
   "outputs": [],
   "source": [
    "import pandas as pd"
   ]
  },
  {
   "cell_type": "code",
   "execution_count": 11,
   "metadata": {},
   "outputs": [],
   "source": [
    "alcohol_use_percents = pd.read_csv(\"State_stats_perc.csv\", index_col=1)\n",
    "alcohol_use_percents.head()\n",
    "percents = alcohol_use_percents.drop(['Ages 12-17', 'Ages 18-25', 'Ages 26+', 'Ages 18+'], axis=1)"
   ]
  },
  {
   "cell_type": "code",
   "execution_count": 12,
   "metadata": {},
   "outputs": [
    {
     "data": {
      "text/html": [
       "<div>\n",
       "<style scoped>\n",
       "    .dataframe tbody tr th:only-of-type {\n",
       "        vertical-align: middle;\n",
       "    }\n",
       "\n",
       "    .dataframe tbody tr th {\n",
       "        vertical-align: top;\n",
       "    }\n",
       "\n",
       "    .dataframe thead th {\n",
       "        text-align: right;\n",
       "    }\n",
       "</style>\n",
       "<table border=\"1\" class=\"dataframe\">\n",
       "  <thead>\n",
       "    <tr style=\"text-align: right;\">\n",
       "      <th></th>\n",
       "      <th>State</th>\n",
       "      <th>Total # Polled</th>\n",
       "      <th>Percent Ages 12-17</th>\n",
       "      <th>Percent Ages 18-25</th>\n",
       "      <th>Percent Ages 26+</th>\n",
       "      <th>Percent Ages 18+</th>\n",
       "    </tr>\n",
       "    <tr>\n",
       "      <th>Year</th>\n",
       "      <th></th>\n",
       "      <th></th>\n",
       "      <th></th>\n",
       "      <th></th>\n",
       "      <th></th>\n",
       "      <th></th>\n",
       "    </tr>\n",
       "  </thead>\n",
       "  <tbody>\n",
       "    <tr>\n",
       "      <th>2013</th>\n",
       "      <td>Alabama</td>\n",
       "      <td>1,752</td>\n",
       "      <td>2.454338</td>\n",
       "      <td>15.582192</td>\n",
       "      <td>81.906393</td>\n",
       "      <td>97.545662</td>\n",
       "    </tr>\n",
       "    <tr>\n",
       "      <th>2014</th>\n",
       "      <td>Alabama</td>\n",
       "      <td>1,803</td>\n",
       "      <td>2.218525</td>\n",
       "      <td>15.252357</td>\n",
       "      <td>82.529118</td>\n",
       "      <td>97.781475</td>\n",
       "    </tr>\n",
       "    <tr>\n",
       "      <th>2015</th>\n",
       "      <td>Alabama</td>\n",
       "      <td>1,779</td>\n",
       "      <td>1.854975</td>\n",
       "      <td>15.514334</td>\n",
       "      <td>82.630691</td>\n",
       "      <td>98.088814</td>\n",
       "    </tr>\n",
       "    <tr>\n",
       "      <th>2016</th>\n",
       "      <td>Alabama</td>\n",
       "      <td>1,656</td>\n",
       "      <td>1.871981</td>\n",
       "      <td>16.002415</td>\n",
       "      <td>82.185990</td>\n",
       "      <td>98.188406</td>\n",
       "    </tr>\n",
       "    <tr>\n",
       "      <th>2017</th>\n",
       "      <td>Alabama</td>\n",
       "      <td>1,709</td>\n",
       "      <td>1.930954</td>\n",
       "      <td>15.155061</td>\n",
       "      <td>82.913985</td>\n",
       "      <td>98.010532</td>\n",
       "    </tr>\n",
       "  </tbody>\n",
       "</table>\n",
       "</div>"
      ],
      "text/plain": [
       "        State Total # Polled  Percent Ages 12-17  Percent Ages 18-25  \\\n",
       "Year                                                                   \n",
       "2013  Alabama          1,752            2.454338           15.582192   \n",
       "2014  Alabama          1,803            2.218525           15.252357   \n",
       "2015  Alabama          1,779            1.854975           15.514334   \n",
       "2016  Alabama          1,656            1.871981           16.002415   \n",
       "2017  Alabama          1,709            1.930954           15.155061   \n",
       "\n",
       "      Percent Ages 26+  Percent Ages 18+  \n",
       "Year                                      \n",
       "2013         81.906393         97.545662  \n",
       "2014         82.529118         97.781475  \n",
       "2015         82.630691         98.088814  \n",
       "2016         82.185990         98.188406  \n",
       "2017         82.913985         98.010532  "
      ]
     },
     "execution_count": 12,
     "metadata": {},
     "output_type": "execute_result"
    }
   ],
   "source": [
    "percents.head()"
   ]
  },
  {
   "cell_type": "code",
   "execution_count": 16,
   "metadata": {},
   "outputs": [],
   "source": [
    "Grouped_percents= percents.groupby(['State', 'Year']).max()\n",
    "Grouped_percents.head(50)\n",
    "\n",
    "Grouped_percents.to_csv(\"Grouped_percents.csv\")"
   ]
  }
 ],
 "metadata": {
  "kernelspec": {
   "display_name": "Python 3",
   "language": "python",
   "name": "python3"
  },
  "language_info": {
   "codemirror_mode": {
    "name": "ipython",
    "version": 3
   },
   "file_extension": ".py",
   "mimetype": "text/x-python",
   "name": "python",
   "nbconvert_exporter": "python",
   "pygments_lexer": "ipython3",
   "version": "3.7.0"
  }
 },
 "nbformat": 4,
 "nbformat_minor": 2
}
